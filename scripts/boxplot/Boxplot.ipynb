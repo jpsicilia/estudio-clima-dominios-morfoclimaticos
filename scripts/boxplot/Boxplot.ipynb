{
  "nbformat": 4,
  "nbformat_minor": 0,
  "metadata": {
    "colab": {
      "provenance": []
    },
    "kernelspec": {
      "name": "python3",
      "display_name": "Python 3"
    },
    "language_info": {
      "name": "python"
    }
  },
  "cells": [
    {
      "cell_type": "code",
      "execution_count": 1,
      "metadata": {
        "id": "rmC-xDeCJNlk"
      },
      "outputs": [],
      "source": [
        "import pandas as pd\n",
        "import numpy as np\n",
        "import seaborn as sns\n",
        "import matplotlib.pyplot as plt"
      ]
    },
    {
      "cell_type": "code",
      "source": [
        "# Cargar datasets\n",
        "df_Barreiras = pd.read_csv('Clima_Barreiras.csv')\n",
        "df_Cuiaba = pd.read_csv('Clima_Cuiaba.csv')\n",
        "df_Uberlandia = pd.read_csv('Clima_Uberlandia.csv')\n",
        "df_Palmas= pd.read_csv('Clima_Palmas.csv')"
      ],
      "metadata": {
        "id": "i2mKFcCJJyYb"
      },
      "execution_count": 3,
      "outputs": []
    },
    {
      "cell_type": "code",
      "source": [
        "# Agregar columna con el nombre del dominio (puedes cambiar los nombres si deseas usar otros)\n",
        "df_Barreiras[\"Dominio\"] = \"Barreiras\"\n",
        "df_Cuiaba[\"Dominio\"] = \"Cuiabá\"\n",
        "df_Uberlandia[\"Dominio\"] = \"Uberlândia\"\n",
        "df_Palmas[\"Dominio\"] = \"Palmas\"\n",
        "\n",
        "# Unir todos los DataFrames\n",
        "df_total = pd.concat([df_Barreiras, df_Cuiaba, df_Uberlandia, df_Palmas], ignore_index=True)"
      ],
      "metadata": {
        "id": "rpcNIYLiKkU6"
      },
      "execution_count": null,
      "outputs": []
    },
    {
      "cell_type": "code",
      "source": [
        "# Asegurar que 'Fecha' sea datetime y obtener el mes\n",
        "df_total[\"Fecha\"] = pd.to_datetime(df_total[\"Fecha\"])\n",
        "df_total[\"Mes\"] = df_total[\"Fecha\"].dt.month\n",
        "\n",
        "# Para que los meses salgan en orden y con nombre\n",
        "meses = [\"Jan\", \"Feb\", \"Mar\", \"Abr\", \"May\", \"Jun\",\n",
        "         \"Jul\", \"Ago\", \"Set\", \"Out\", \"Nov\", \"Dez\"]\n",
        "df_total[\"Mes_nombre\"] = df_total[\"Mes\"].apply(lambda x: meses[x-1])"
      ],
      "metadata": {
        "id": "t51EQK-NLQ4_"
      },
      "execution_count": null,
      "outputs": []
    },
    {
      "cell_type": "code",
      "source": [
        "df_total[df_total[\"Dominio\"]==\"Cuiaba\"]"
      ],
      "metadata": {
        "id": "mErHepB8LTwo"
      },
      "execution_count": null,
      "outputs": []
    },
    {
      "cell_type": "code",
      "source": [
        "# Estilo de seaborn\n",
        "sns.set(style=\"whitegrid\")\n",
        "\n",
        "# Lista de variables a graficar\n",
        "variables = {\n",
        "    \"Precipitacion_mm\": \"Precipitación (mm)\",\n",
        "    \"Tmax\": \"Temperatura máxima (°C)\",\n",
        "    \"Tmin\": \"Temperatura mínima (°C)\"\n",
        "}\n",
        "\n",
        "for var, nombre in variables.items():\n",
        "    plt.figure(figsize=(14, 6))\n",
        "    sns.boxplot(x=\"Mes_nombre\", y=var, hue=\"Dominio\", data=df_total, palette=\"Set2\")\n",
        "    plt.title(f\"Boxplot mensual de {nombre} por dominio morfoclimático\")\n",
        "    plt.xlabel(\"Mes\")\n",
        "    plt.ylabel(nombre)\n",
        "    plt.legend(title=\"Dominio\")\n",
        "    plt.tight_layout()\n",
        "    plt.show()\n"
      ],
      "metadata": {
        "id": "CiyknDomLpQl"
      },
      "execution_count": null,
      "outputs": []
    }
  ]
}