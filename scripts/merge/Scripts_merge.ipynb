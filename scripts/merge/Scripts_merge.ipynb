{
  "cells": [
    {
      "cell_type": "code",
      "source": [
        "import pandas as pd\n",
        "from unidecode import unidecode\n",
        "\n",
        "# Cargar datasets\n",
        "df_prec = pd.read_csv('PPT.csv')\n",
        "df_tmax = pd.read_csv('Max_Temperature.csv')\n",
        "df_tmin = pd.read_csv('Min_Temperature.csv')\n",
        "\n",
        "# Renombrar columnas\n",
        "df_prec.columns = ['Fecha', 'Precipitacion_mm']\n",
        "df_tmax.columns = ['Fecha', 'Tmax']\n",
        "df_tmin.columns = ['Fecha', 'Tmin']\n",
        "\n",
        "# Convertir 'Fecha' a datetime\n",
        "for df in [df_prec, df_tmax, df_tmin]:\n",
        "    df['Fecha'] = pd.to_datetime(df['Fecha'])\n",
        "\n",
        "# Hacer merge de los 3 archivos\n",
        "df_total = df_prec.merge(df_tmax, on='Fecha').merge(df_tmin, on='Fecha')\n",
        "\n",
        "# Solicitar nombre de la localidad\n",
        "localidad = input(\"📍 Coloca el nombre de la localidad: \").strip()\n",
        "\n",
        "# Limpiar tildes y espacios para usar en nombre de archivo\n",
        "localidad_limpia = unidecode(localidad).replace(\" \", \"_\")\n",
        "\n",
        "# Guardar archivo\n",
        "nombre_salida = f\"Clima_{localidad_limpia}.csv\"\n",
        "df_total.to_csv(nombre_salida, index=False)\n",
        "\n",
        "print(f\"Listo: se guardó como '{nombre_salida}' (de '{localidad}')\")\n"
      ],
      "metadata": {
        "id": "An1wvJzwpy-F"
      },
      "execution_count": null,
      "outputs": []
    }
  ],
  "metadata": {
    "colab": {
      "name": "Te damos la bienvenida a Colaboratory",
      "provenance": []
    },
    "kernelspec": {
      "display_name": "Python 3",
      "name": "python3"
    }
  },
  "nbformat": 4,
  "nbformat_minor": 0
}